{
 "cells": [
  {
   "cell_type": "code",
   "execution_count": 1,
   "id": "0c00d62e",
   "metadata": {},
   "outputs": [],
   "source": [
    "import pandas as pd\n",
    "import matplotlib.pyplot as plt\n",
    "import numpy as np"
   ]
  },
  {
   "cell_type": "code",
   "execution_count": 7,
   "id": "e29b6077",
   "metadata": {},
   "outputs": [],
   "source": [
    "df = pd.read_csv('../data/t1b2.csv')"
   ]
  },
  {
   "cell_type": "code",
   "execution_count": 36,
   "id": "b854541f",
   "metadata": {},
   "outputs": [
    {
     "data": {
      "text/plain": [
       "0     Associated British Foods (alim.)\n",
       "1                                  Bel\n",
       "2                               Danone\n",
       "3                              Ecotone\n",
       "4                              Ferrero\n",
       "5                        General Mills\n",
       "6                                 Hero\n",
       "7                              Kellogg\n",
       "8                                 Mars\n",
       "9                             Mondelez\n",
       "10                              Nestlé\n",
       "11                             Pepsico\n",
       "12                              Henkel\n",
       "13                                 P&G\n",
       "14                            Unilever\n",
       "15                   Colgate-Palmolive\n",
       "16                                Coty\n",
       "17                             L'Oréal\n",
       "18                            Shiseido\n",
       "19                          Beiersdorf\n",
       "20                       S. C. Johnson\n",
       "21                             Reckitt\n",
       "22                                 GSK\n",
       "23                   Johnson & Johnson\n",
       "Name: company_name, dtype: object"
      ]
     },
     "execution_count": 36,
     "metadata": {},
     "output_type": "execute_result"
    }
   ],
   "source": [
    "df['company_name']"
   ]
  },
  {
   "cell_type": "code",
   "execution_count": 37,
   "id": "c0b19562",
   "metadata": {},
   "outputs": [
    {
     "data": {
      "text/plain": [
       "{'company_name': {23: 'Johnson & Johnson'},\n",
       " 'direct_score': {23: 6},\n",
       " 'C1 initial value': {23: 1.0},\n",
       " 'c1_final_value': {23: 0.8252936719999998},\n",
       " 'C1 unit': {23: 'absolu'},\n",
       " 'c1_initial_date': {23: 2016},\n",
       " 'c1_final_date': {23: 2019},\n",
       " 'c1_2_deg_final': {23: 0.9625},\n",
       " 'c1_1_8_deg_final': {23: 0.925},\n",
       " 'c1_1_5_deg_final': {23: 0.874},\n",
       " 'complete_score': {23: 3},\n",
       " 'C2 complete level': {23: 3.3},\n",
       " 'C2 reduction': {23: '-0.030000000000000027'},\n",
       " 'C2 initial value': {23: 1.0},\n",
       " 'c2_final_value': {23: 0.97},\n",
       " 'C2 unit': {23: 'absolu'},\n",
       " 'c2_initial_date': {23: 2016},\n",
       " 'c2_final_date': {23: 2019},\n",
       " 'c2_2_deg_final': {23: 0.9625},\n",
       " 'c2_1_8_deg_final': {23: 0.925},\n",
       " 'c2_1_5_deg_final': {23: 0.874},\n",
       " 'direct_score_commitments': {23: 6.9},\n",
       " 'direct_rounding_score_commitments': {23: 6},\n",
       " 'E1 reduction': {23: '60% '},\n",
       " 'E1 unit': {23: 'absolu'},\n",
       " 'complete_score_commitments': {23: 4.9},\n",
       " 'complete_rounding_score_commitments': {23: 4},\n",
       " 'E2 reduction': {23: '20% '},\n",
       " 'E2 unit': {23: 'absolu'},\n",
       " 'direct_score_short_label': {23: '1,5°C'},\n",
       " 'direct_score_hexa_color_code': {23: '#0DB800'},\n",
       " 'e1_label': {23: '1,5°C'},\n",
       " 'direct_ambition_hexa_color_code': {23: '#0DB800'},\n",
       " 'complete_score_short_label': {23: 'Entre +2°C et +3°C'},\n",
       " 'complete_score_hexa_color_code': {23: '#FF8939'},\n",
       " 'e2_label': {23: '2°C'},\n",
       " 'complete_ambition_hexa_color_code': {23: '#FEC800'}}"
      ]
     },
     "execution_count": 37,
     "metadata": {},
     "output_type": "execute_result"
    }
   ],
   "source": [
    "df[df['company_name'] =='Johnson & Johnson'].to_dict()"
   ]
  },
  {
   "cell_type": "code",
   "execution_count": 9,
   "id": "872990c4",
   "metadata": {},
   "outputs": [
    {
     "name": "stdout",
     "output_type": "stream",
     "text": [
      "<class 'pandas.core.frame.DataFrame'>\n",
      "RangeIndex: 24 entries, 0 to 23\n",
      "Data columns (total 37 columns):\n",
      " #   Column                               Non-Null Count  Dtype  \n",
      "---  ------                               --------------  -----  \n",
      " 0   company_name                         24 non-null     object \n",
      " 1   direct_score                         24 non-null     int64  \n",
      " 2   C1 initial value                     24 non-null     float64\n",
      " 3   c1_final_value                       24 non-null     float64\n",
      " 4   C1 unit                              24 non-null     object \n",
      " 5   c1_initial_date                      24 non-null     int64  \n",
      " 6   c1_final_date                        24 non-null     int64  \n",
      " 7   c1_2_deg_final                       24 non-null     float64\n",
      " 8   c1_1_8_deg_final                     24 non-null     float64\n",
      " 9   c1_1_5_deg_final                     24 non-null     float64\n",
      " 10  complete_score                       24 non-null     int64  \n",
      " 11  C2 complete level                    24 non-null     float64\n",
      " 12  C2 reduction                         24 non-null     object \n",
      " 13  C2 initial value                     24 non-null     float64\n",
      " 14  c2_final_value                       24 non-null     float64\n",
      " 15  C2 unit                              24 non-null     object \n",
      " 16  c2_initial_date                      24 non-null     int64  \n",
      " 17  c2_final_date                        24 non-null     int64  \n",
      " 18  c2_2_deg_final                       24 non-null     float64\n",
      " 19  c2_1_8_deg_final                     24 non-null     float64\n",
      " 20  c2_1_5_deg_final                     24 non-null     float64\n",
      " 21  direct_score_commitments             24 non-null     float64\n",
      " 22  direct_rounding_score_commitments    24 non-null     int64  \n",
      " 23  E1 reduction                         24 non-null     object \n",
      " 24  E1 unit                              24 non-null     object \n",
      " 25  complete_score_commitments           24 non-null     float64\n",
      " 26  complete_rounding_score_commitments  24 non-null     int64  \n",
      " 27  E2 reduction                         24 non-null     object \n",
      " 28  E2 unit                              24 non-null     object \n",
      " 29  direct_score_short_label             24 non-null     object \n",
      " 30  direct_score_hexa_color_code         24 non-null     object \n",
      " 31  e1_label                             24 non-null     object \n",
      " 32  direct_ambition_hexa_color_code      24 non-null     object \n",
      " 33  complete_score_short_label           24 non-null     object \n",
      " 34  complete_score_hexa_color_code       24 non-null     object \n",
      " 35  e2_label                             24 non-null     object \n",
      " 36  complete_ambition_hexa_color_code    24 non-null     object \n",
      "dtypes: float64(13), int64(8), object(16)\n",
      "memory usage: 7.1+ KB\n"
     ]
    }
   ],
   "source": [
    "df.info()"
   ]
  },
  {
   "cell_type": "code",
   "execution_count": 21,
   "id": "8b69984c",
   "metadata": {},
   "outputs": [],
   "source": [
    "#Select columns \n",
    "df_chart = df[['company_name','direct_score','direct_score_commitments','direct_score_hexa_color_code', 'c1_final_value']]\n",
    "\n",
    "#problème dans les données sur les codes couleurs qui ne sont pas les mêmes pour les mêmes scores"
   ]
  },
  {
   "cell_type": "code",
   "execution_count": 23,
   "id": "be3c21e5",
   "metadata": {},
   "outputs": [],
   "source": [
    "#classify by score value\n",
    "ordered_df_chart = df_chart.sort_values(by='c1_final_value')\n",
    "\n",
    "my_range=range(1,len(df_chart.index)+1)\n",
    "y=[1, 2, 3, 4, 5, 6]"
   ]
  },
  {
   "cell_type": "code",
   "execution_count": 40,
   "id": "33d6b455",
   "metadata": {},
   "outputs": [],
   "source": [
    "#Corresponding values\n",
    "labels = ['+1.5°', '', '+2°C', '', '+4°C', '']\n",
    "x = ordered_df_chart['company_name']\n",
    "y2 = 7- ordered_df_chart['direct_score_commitments']\n",
    "color_code = ordered_df_chart['direct_score_hexa_color_code']"
   ]
  },
  {
   "cell_type": "code",
   "execution_count": 41,
   "id": "8f0f46c6",
   "metadata": {},
   "outputs": [
    {
     "data": {
      "image/png": "[encoded data removed]",
      "text/plain": [
       "<Figure size 720x720 with 1 Axes>"
      ]
     },
     "metadata": {
      "needs_background": "light"
     },
     "output_type": "display_data"
    }
   ],
   "source": [
    "#Make the plot\n",
    "plt.figure(figsize=(10, 10))\n",
    "(markers, stemlines, baseline) = plt.stem(y2,markerfmt=' ', bottom=4)\n",
    "plt.setp(stemlines, linestyle='--',color='grey',linewidth=1)\n",
    "plt.xticks(my_range, x)\n",
    "plt.yticks(y, labels)\n",
    "plt.scatter(x,y2,color=color_code,s=60, alpha=1)\n",
    "plt.show()\n"
   ]
  },
  {
   "cell_type": "code",
   "execution_count": 9,
   "id": "f1e10bdf",
   "metadata": {},
   "outputs": [],
   "source": [
    "# A voir avec Vincent, comment fait-on pour les entreprises qui ont un score = 0 ? ex : Associated British..."
   ]
  }
 ],
 "metadata": {
  "kernelspec": {
   "display_name": "Python 3 (ipykernel)",
   "language": "python",
   "name": "python3"
  },
  "language_info": {
   "codemirror_mode": {
    "name": "ipython",
    "version": 3
   },
   "file_extension": ".py",
   "mimetype": "text/x-python",
   "name": "python",
   "nbconvert_exporter": "python",
   "pygments_lexer": "ipython3",
   "version": "3.8.10"
  }
 },
 "nbformat": 4,
 "nbformat_minor": 5
}
