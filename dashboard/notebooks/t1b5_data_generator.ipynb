{
 "cells": [
  {
   "cell_type": "code",
   "execution_count": 1,
   "id": "66ada717",
   "metadata": {},
   "outputs": [],
   "source": [
    "import pandas as pd\n",
    "import numpy as np\n",
    "#Read file\n",
    "df = pd.read_excel('BDD Surcouche pour dataviz_v03.xlsx', header=0)#, dtype={'Groupe': str})\n",
    "df = df.iloc[:,0:63]"
   ]
  },
  {
   "cell_type": "code",
   "execution_count": 2,
   "id": "10dc4e79",
   "metadata": {},
   "outputs": [
    {
     "name": "stdout",
     "output_type": "stream",
     "text": [
      "['Group', 'Sector', 'Logo', 'Unnamed: 3', 'Country flag', 'Turnover', 'Top brand 1', 'Top brand 2', 'Top brand 3', 'Top brand 4', 'Top brand 5', 'Logo brand 1', 'Logo brand 2', 'Logo brand 3', 'Logo brand 4', 'Logo brand 5', 'Competitor 1', 'Competitor 2', 'Competitor 3', 'Competitor 4', 'Competitor 5', 'Competitor 6', 'Competitor 7', 'Competitor 8', 'Competitor 9', 'Comment', 'Global score', 'C1 direct score', 'C1 direct level', 'C1 reduction', 'C1 initial value', 'C1 final value', 'C1 unit', 'C1 initial date', 'C1 final date', 'C1 2deg final', 'C1 1,8deg final', 'C1 1,5deg final', 'C2 complete score', 'C2 complete level', 'C2 reduction', 'C2 initial value', 'C2 final value', 'C2 unit', 'C2 initial date', 'C2 final date', 'C2 2deg final', 'C2 1,8deg final', 'C2 1,5deg final', 'Footnote', 'E1 score commitment direct', 'E1 commitment direct', 'E1 phrase ', 'E1 perimeter', 'E1 reduction', 'E1 unit', 'E1 final date', 'E1 final date.1', 'E2 score commitment', 'E2 commitment complete', 'E2 phrase ', 'E2 perimeter', 'E2 reduction']\n"
     ]
    }
   ],
   "source": [
    "print(df.columns.tolist())"
   ]
  },
  {
   "cell_type": "code",
   "execution_count": 3,
   "id": "117a270b",
   "metadata": {},
   "outputs": [],
   "source": [
    "#Rename useful columns\n",
    "df = df.rename(columns={'Group': 'company_name','E1 phrase ': 'direct_commitments_sentence','E2 phrase ':'complete_commitments_sentence','E1 commitment direct':'direct_score_commitments','E1 score commitment direct': 'direct_rounding_score_commitments','E2 commitment complete':'complete_score_commitments', 'E2 score commitment':'complete_rounding_score_commitments'})"
   ]
  },
  {
   "cell_type": "code",
   "execution_count": 4,
   "id": "b2758a69",
   "metadata": {},
   "outputs": [],
   "source": [
    "#Keep useful columns\n",
    "df = df[['company_name','direct_score_commitments','direct_rounding_score_commitments','direct_commitments_sentence','complete_score_commitments','complete_rounding_score_commitments','complete_commitments_sentence']]"
   ]
  },
  {
   "cell_type": "code",
   "execution_count": 5,
   "id": "8806205b",
   "metadata": {
    "scrolled": true
   },
   "outputs": [],
   "source": [
    "#replace 'n.df['direct_score_commitments'] = df['direct_score_commitments'].replace(['n.a.'],'99').astype(float)\n",
    "df['complete_score_commitments'] = df['complete_score_commitments'].replace(['n.a.'],'99').astype(float)"
   ]
  },
  {
   "cell_type": "code",
   "execution_count": 6,
   "id": "3ddf5845",
   "metadata": {},
   "outputs": [],
   "source": [
    "correspondance_score = pd.read_excel('Correspondance score affichage_v01.xlsx','Affich engagement direct ou com')"
   ]
  },
  {
   "cell_type": "code",
   "execution_count": 9,
   "id": "43495b93",
   "metadata": {},
   "outputs": [],
   "source": [
    "# create a list of our conditions\n",
    "conditions = [\n",
    "    (df['direct_rounding_score_commitments'] == 1),\n",
    "    (df['direct_rounding_score_commitments'] == 2),\n",
    "    (df['direct_rounding_score_commitments'] == 3),\n",
    "    (df['direct_rounding_score_commitments'] == 4),\n",
    "    (df['direct_rounding_score_commitments'] == 5),\n",
    "    (df['direct_rounding_score_commitments'] == 6),\n",
    "    (df['direct_rounding_score_commitments'] == 99)\n",
    "    ]\n",
    "\n",
    "# create a list of the values we want to assign for each condition\n",
    "values = ['Non publié', 'Vers +4°C', 'Ambition non compatible 2°C', 'Ambition compatible 2°C', 'Ambition compatible bien moins de 2°C', 'Ambition compatible 1,5°C', 'Aucun engagement divulgué']\n",
    "values2 = ['#820000', '#C00000', '#FF8939', '#FEC800', '#8CDF41', '#0DB800', '#BFBFBF']\n",
    "\n",
    "# create a new column and use np.select to assign values to it using our lists as arguments\n",
    "df['direct_ambition_long_label'] = np.select(conditions, values)\n",
    "df['direct_ambition_hexa_color_code'] = np.select(conditions, values2)"
   ]
  },
  {
   "cell_type": "code",
   "execution_count": 10,
   "id": "8ce45df0",
   "metadata": {},
   "outputs": [],
   "source": [
    "# create a list of our conditions\n",
    "conditions = [\n",
    "    (df['complete_rounding_score_commitments'] == 1),\n",
    "    (df['complete_rounding_score_commitments'] == 2),\n",
    "    (df['complete_rounding_score_commitments'] == 3),\n",
    "    (df['complete_rounding_score_commitments'] == 4),\n",
    "    (df['complete_rounding_score_commitments'] == 5),\n",
    "    (df['complete_rounding_score_commitments'] == 6),\n",
    "    (df['complete_rounding_score_commitments'] == 99)\n",
    "    ]\n",
    "\n",
    "# create a list of the values we want to assign for each condition\n",
    "values = ['Non publié', 'Vers +4°C', 'Ambition non compatible 2°C', 'Ambition compatible 2°C', 'Ambition compatible bien moins de 2°C', 'Ambition compatible 1,5°C', 'Aucun engagement divulgué']\n",
    "\n",
    "# create a new column and use np.select to assign values to it using our lists as arguments\n",
    "df['complete_ambition_long_label'] = np.select(conditions, values)\n",
    "df['complete_ambition_hexa_color_code'] = np.select(conditions, values2)"
   ]
  },
  {
   "cell_type": "code",
   "execution_count": 11,
   "id": "97b8121a",
   "metadata": {},
   "outputs": [],
   "source": [
    "df.to_csv('t1b5.csv')"
   ]
  },
  {
   "cell_type": "code",
   "execution_count": 12,
   "id": "9aca9a2a",
   "metadata": {},
   "outputs": [
    {
     "data": {
      "text/html": [
       "<div>\n",
       "<style scoped>\n",
       "    .dataframe tbody tr th:only-of-type {\n",
       "        vertical-align: middle;\n",
       "    }\n",
       "\n",
       "    .dataframe tbody tr th {\n",
       "        vertical-align: top;\n",
       "    }\n",
       "\n",
       "    .dataframe thead th {\n",
       "        text-align: right;\n",
       "    }\n",
       "</style>\n",
       "<table border=\"1\" class=\"dataframe\">\n",
       "  <thead>\n",
       "    <tr style=\"text-align: right;\">\n",
       "      <th></th>\n",
       "      <th>company_name</th>\n",
       "      <th>direct_score_commitments</th>\n",
       "      <th>direct_rounding_score_commitments</th>\n",
       "      <th>direct_commitments_sentence</th>\n",
       "      <th>complete_score_commitments</th>\n",
       "      <th>complete_rounding_score_commitments</th>\n",
       "      <th>complete_commitments_sentence</th>\n",
       "      <th>direct_ambition_long_label</th>\n",
       "      <th>direct_ambition_hexa_color_code</th>\n",
       "      <th>complete_ambition_long_label</th>\n",
       "      <th>complete_ambition_hexa_color_code</th>\n",
       "    </tr>\n",
       "  </thead>\n",
       "  <tbody>\n",
       "    <tr>\n",
       "      <th>0</th>\n",
       "      <td>Andros</td>\n",
       "      <td>n.a.</td>\n",
       "      <td>99.0</td>\n",
       "      <td>n.a.</td>\n",
       "      <td>99.0</td>\n",
       "      <td>99.0</td>\n",
       "      <td>n.a.</td>\n",
       "      <td>Aucun engagement divulgué</td>\n",
       "      <td>#BFBFBF</td>\n",
       "      <td>Aucun engagement divulgué</td>\n",
       "      <td>#BFBFBF</td>\n",
       "    </tr>\n",
       "    <tr>\n",
       "      <th>1</th>\n",
       "      <td>Associated British Foods (alim.)</td>\n",
       "      <td>n.a.</td>\n",
       "      <td>99.0</td>\n",
       "      <td>n.a.</td>\n",
       "      <td>99.0</td>\n",
       "      <td>99.0</td>\n",
       "      <td>n.a.</td>\n",
       "      <td>Aucun engagement divulgué</td>\n",
       "      <td>#BFBFBF</td>\n",
       "      <td>Aucun engagement divulgué</td>\n",
       "      <td>#BFBFBF</td>\n",
       "    </tr>\n",
       "    <tr>\n",
       "      <th>2</th>\n",
       "      <td>Bel</td>\n",
       "      <td>5.7</td>\n",
       "      <td>5.0</td>\n",
       "      <td>S'engage à réduire de 22% les émissions de son...</td>\n",
       "      <td>4.7</td>\n",
       "      <td>4.0</td>\n",
       "      <td>S'engage à réduire de 28% l'empreinte carbone ...</td>\n",
       "      <td>Ambition compatible bien moins de 2°C</td>\n",
       "      <td>#8CDF41</td>\n",
       "      <td>Ambition compatible 2°C</td>\n",
       "      <td>#FEC800</td>\n",
       "    </tr>\n",
       "    <tr>\n",
       "      <th>3</th>\n",
       "      <td>Danone</td>\n",
       "      <td>4.4</td>\n",
       "      <td>4.0</td>\n",
       "      <td>S'engage à réduire de 30% les émissions de son...</td>\n",
       "      <td>5.1</td>\n",
       "      <td>5.0</td>\n",
       "      <td>S'engage à réduire de 50% l'empreinte carbone ...</td>\n",
       "      <td>Ambition compatible 2°C</td>\n",
       "      <td>#FEC800</td>\n",
       "      <td>Ambition compatible bien moins de 2°C</td>\n",
       "      <td>#8CDF41</td>\n",
       "    </tr>\n",
       "    <tr>\n",
       "      <th>4</th>\n",
       "      <td>Ecotone</td>\n",
       "      <td>6.1</td>\n",
       "      <td>6.0</td>\n",
       "      <td>S'engage à réduire de 55% les émissions de son...</td>\n",
       "      <td>3.5</td>\n",
       "      <td>3.0</td>\n",
       "      <td>S'engage à réduire de 43% l'empreinte carbone ...</td>\n",
       "      <td>Ambition compatible 1,5°C</td>\n",
       "      <td>#0DB800</td>\n",
       "      <td>Ambition non compatible 2°C</td>\n",
       "      <td>#FF8939</td>\n",
       "    </tr>\n",
       "  </tbody>\n",
       "</table>\n",
       "</div>"
      ],
      "text/plain": [
       "                       company_name direct_score_commitments  \\\n",
       "0                            Andros                     n.a.   \n",
       "1  Associated British Foods (alim.)                     n.a.   \n",
       "2                               Bel                      5.7   \n",
       "3                            Danone                      4.4   \n",
       "4                           Ecotone                      6.1   \n",
       "\n",
       "   direct_rounding_score_commitments  \\\n",
       "0                               99.0   \n",
       "1                               99.0   \n",
       "2                                5.0   \n",
       "3                                4.0   \n",
       "4                                6.0   \n",
       "\n",
       "                         direct_commitments_sentence  \\\n",
       "0                                               n.a.   \n",
       "1                                               n.a.   \n",
       "2  S'engage à réduire de 22% les émissions de son...   \n",
       "3  S'engage à réduire de 30% les émissions de son...   \n",
       "4  S'engage à réduire de 55% les émissions de son...   \n",
       "\n",
       "   complete_score_commitments  complete_rounding_score_commitments  \\\n",
       "0                        99.0                                 99.0   \n",
       "1                        99.0                                 99.0   \n",
       "2                         4.7                                  4.0   \n",
       "3                         5.1                                  5.0   \n",
       "4                         3.5                                  3.0   \n",
       "\n",
       "                       complete_commitments_sentence  \\\n",
       "0                                               n.a.   \n",
       "1                                               n.a.   \n",
       "2  S'engage à réduire de 28% l'empreinte carbone ...   \n",
       "3  S'engage à réduire de 50% l'empreinte carbone ...   \n",
       "4  S'engage à réduire de 43% l'empreinte carbone ...   \n",
       "\n",
       "              direct_ambition_long_label direct_ambition_hexa_color_code  \\\n",
       "0              Aucun engagement divulgué                         #BFBFBF   \n",
       "1              Aucun engagement divulgué                         #BFBFBF   \n",
       "2  Ambition compatible bien moins de 2°C                         #8CDF41   \n",
       "3                Ambition compatible 2°C                         #FEC800   \n",
       "4              Ambition compatible 1,5°C                         #0DB800   \n",
       "\n",
       "            complete_ambition_long_label complete_ambition_hexa_color_code  \n",
       "0              Aucun engagement divulgué                           #BFBFBF  \n",
       "1              Aucun engagement divulgué                           #BFBFBF  \n",
       "2                Ambition compatible 2°C                           #FEC800  \n",
       "3  Ambition compatible bien moins de 2°C                           #8CDF41  \n",
       "4            Ambition non compatible 2°C                           #FF8939  "
      ]
     },
     "execution_count": 12,
     "metadata": {},
     "output_type": "execute_result"
    }
   ],
   "source": [
    "df.head()"
   ]
  },
  {
   "cell_type": "code",
   "execution_count": null,
   "id": "3891ed67",
   "metadata": {},
   "outputs": [],
   "source": []
  }
 ],
 "metadata": {
  "kernelspec": {
   "display_name": "Python 3 (ipykernel)",
   "language": "python",
   "name": "python3"
  },
  "language_info": {
   "codemirror_mode": {
    "name": "ipython",
    "version": 3
   },
   "file_extension": ".py",
   "mimetype": "text/x-python",
   "name": "python",
   "nbconvert_exporter": "python",
   "pygments_lexer": "ipython3",
   "version": "3.8.6"
  }
 },
 "nbformat": 4,
 "nbformat_minor": 5
}
